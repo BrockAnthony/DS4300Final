{
 "cells": [
  {
   "cell_type": "code",
   "execution_count": 1,
   "id": "7321205d-8beb-4471-807e-f4d9dbb05039",
   "metadata": {},
   "outputs": [],
   "source": [
    "import pandas as pd\n",
    "import os"
   ]
  },
  {
   "cell_type": "code",
   "execution_count": 2,
   "id": "39ef90c2-04bb-4aa8-90b6-3a86faf31a74",
   "metadata": {},
   "outputs": [
    {
     "data": {
      "text/html": [
       "<div>\n",
       "<style scoped>\n",
       "    .dataframe tbody tr th:only-of-type {\n",
       "        vertical-align: middle;\n",
       "    }\n",
       "\n",
       "    .dataframe tbody tr th {\n",
       "        vertical-align: top;\n",
       "    }\n",
       "\n",
       "    .dataframe thead th {\n",
       "        text-align: right;\n",
       "    }\n",
       "</style>\n",
       "<table border=\"1\" class=\"dataframe\">\n",
       "  <thead>\n",
       "    <tr style=\"text-align: right;\">\n",
       "      <th></th>\n",
       "      <th>title</th>\n",
       "      <th>score</th>\n",
       "      <th>cleaned_review</th>\n",
       "    </tr>\n",
       "  </thead>\n",
       "  <tbody>\n",
       "    <tr>\n",
       "      <th>0</th>\n",
       "      <td>Counter-Strike: Global Offensive</td>\n",
       "      <td>4</td>\n",
       "      <td>nice graphic new map weapon model developer li...</td>\n",
       "    </tr>\n",
       "    <tr>\n",
       "      <th>1</th>\n",
       "      <td>Counter-Strike: Global Offensive</td>\n",
       "      <td>5</td>\n",
       "      <td>would recommend getting current state csgo hit...</td>\n",
       "    </tr>\n",
       "    <tr>\n",
       "      <th>2</th>\n",
       "      <td>Counter-Strike: Global Offensive</td>\n",
       "      <td>5</td>\n",
       "      <td>edit 111218i tried playing csgo recently drama...</td>\n",
       "    </tr>\n",
       "    <tr>\n",
       "      <th>3</th>\n",
       "      <td>Counter-Strike: Global Offensive</td>\n",
       "      <td>5</td>\n",
       "      <td>game great community worstif youre match russi...</td>\n",
       "    </tr>\n",
       "    <tr>\n",
       "      <th>4</th>\n",
       "      <td>Counter-Strike: Global Offensive</td>\n",
       "      <td>5</td>\n",
       "      <td>thank trulyrazor buying long time ago insisted...</td>\n",
       "    </tr>\n",
       "    <tr>\n",
       "      <th>...</th>\n",
       "      <td>...</td>\n",
       "      <td>...</td>\n",
       "      <td>...</td>\n",
       "    </tr>\n",
       "    <tr>\n",
       "      <th>7952</th>\n",
       "      <td>GUNS UP!</td>\n",
       "      <td>4</td>\n",
       "      <td>early access reviewguns uppositive good idea a...</td>\n",
       "    </tr>\n",
       "    <tr>\n",
       "      <th>7953</th>\n",
       "      <td>GUNS UP!</td>\n",
       "      <td>5</td>\n",
       "      <td>170 hr review spend money would seam better ch...</td>\n",
       "    </tr>\n",
       "    <tr>\n",
       "      <th>7954</th>\n",
       "      <td>GUNS UP!</td>\n",
       "      <td>3</td>\n",
       "      <td>prosfun gameplaycons micro ing transactionsdoe...</td>\n",
       "    </tr>\n",
       "    <tr>\n",
       "      <th>7955</th>\n",
       "      <td>GUNS UP!</td>\n",
       "      <td>3</td>\n",
       "      <td>actualy saucy definetly suggest player whod li...</td>\n",
       "    </tr>\n",
       "    <tr>\n",
       "      <th>7956</th>\n",
       "      <td>GUNS UP!</td>\n",
       "      <td>5</td>\n",
       "      <td>see people play 30 minute say game badbut side...</td>\n",
       "    </tr>\n",
       "  </tbody>\n",
       "</table>\n",
       "<p>7957 rows × 3 columns</p>\n",
       "</div>"
      ],
      "text/plain": [
       "                                 title  score  \\\n",
       "0     Counter-Strike: Global Offensive      4   \n",
       "1     Counter-Strike: Global Offensive      5   \n",
       "2     Counter-Strike: Global Offensive      5   \n",
       "3     Counter-Strike: Global Offensive      5   \n",
       "4     Counter-Strike: Global Offensive      5   \n",
       "...                                ...    ...   \n",
       "7952                          GUNS UP!      4   \n",
       "7953                          GUNS UP!      5   \n",
       "7954                          GUNS UP!      3   \n",
       "7955                          GUNS UP!      3   \n",
       "7956                          GUNS UP!      5   \n",
       "\n",
       "                                         cleaned_review  \n",
       "0     nice graphic new map weapon model developer li...  \n",
       "1     would recommend getting current state csgo hit...  \n",
       "2     edit 111218i tried playing csgo recently drama...  \n",
       "3     game great community worstif youre match russi...  \n",
       "4     thank trulyrazor buying long time ago insisted...  \n",
       "...                                                 ...  \n",
       "7952  early access reviewguns uppositive good idea a...  \n",
       "7953  170 hr review spend money would seam better ch...  \n",
       "7954  prosfun gameplaycons micro ing transactionsdoe...  \n",
       "7955  actualy saucy definetly suggest player whod li...  \n",
       "7956  see people play 30 minute say game badbut side...  \n",
       "\n",
       "[7957 rows x 3 columns]"
      ]
     },
     "execution_count": 2,
     "metadata": {},
     "output_type": "execute_result"
    }
   ],
   "source": [
    "df = pd.read_csv(\"ds4300_final - Copy.csv\")\n",
    "df"
   ]
  },
  {
   "cell_type": "code",
   "execution_count": 15,
   "id": "065d93df-6f6f-498c-8144-77988b8b0ee5",
   "metadata": {},
   "outputs": [
    {
     "data": {
      "text/plain": [
       "(['The Lord of the Rings Online™',\n",
       "  'Crush Crush',\n",
       "  'World of Warships',\n",
       "  'Fishing Planet',\n",
       "  'Governor of Poker 3',\n",
       "  'Z1 Battle Royale',\n",
       "  'Tree of Savior (English Ver.)',\n",
       "  'Dungeon Defenders II',\n",
       "  'Counter-Strike: Global Offensive',\n",
       "  'Magic Duels',\n",
       "  'Digimon Masters Online',\n",
       "  'GUNS UP!',\n",
       "  'Shadowverse CCG',\n",
       "  'Shakes and Fidget',\n",
       "  'Paladins®',\n",
       "  'Star Trek Online',\n",
       "  'VEGA Conflict',\n",
       "  'Minion Masters',\n",
       "  'Champions Online',\n",
       "  'Aura Kingdom'],\n",
       " 20)"
      ]
     },
     "execution_count": 15,
     "metadata": {},
     "output_type": "execute_result"
    }
   ],
   "source": [
    "unique_games = []\n",
    "for row in df.iterrows():\n",
    "    if row[1][\"title\"] not in unique_games:\n",
    "        unique_games.append(row[1][\"title\"])\n",
    "\n",
    "unique_games = list(set(unique_games))\n",
    "unique_games, len(unique_games)"
   ]
  },
  {
   "cell_type": "code",
   "execution_count": 51,
   "id": "53c9bb8b-364a-489f-9182-7fa0e9ece774",
   "metadata": {},
   "outputs": [],
   "source": [
    "game_dfs = []\n",
    "for game in unique_games:\n",
    "    game_df = pd.DataFrame()\n",
    "    for idx, row in enumerate(df.iterrows()):\n",
    "        if row[1][\"title\"] == game:\n",
    "            game_df.loc[idx, \"review\"] = df.loc[idx, \"cleaned_review\"]\n",
    "    game_df.reset_index(inplace=True)\n",
    "    game_df.drop(\"index\", axis=1, inplace=True)\n",
    "    game_title_clean = ''.join(c for c in game if c.isalpha() or c == \" \")\n",
    "    game_dfs.append(tuple([game_title_clean, game_df]))"
   ]
  },
  {
   "cell_type": "code",
   "execution_count": 54,
   "id": "57687b27-c356-40fd-ba23-df2845b7b7bf",
   "metadata": {},
   "outputs": [],
   "source": [
    "for title, game_df in game_dfs:\n",
    "    path = os.curdir + os.sep + \"split_data\" + os.sep + title + \".csv\"\n",
    "    game_df.to_csv(path)"
   ]
  }
 ],
 "metadata": {
  "kernelspec": {
   "display_name": "DB_kernel",
   "language": "python",
   "name": "db_kernel"
  },
  "language_info": {
   "codemirror_mode": {
    "name": "ipython",
    "version": 3
   },
   "file_extension": ".py",
   "mimetype": "text/x-python",
   "name": "python",
   "nbconvert_exporter": "python",
   "pygments_lexer": "ipython3",
   "version": "3.11.10"
  }
 },
 "nbformat": 4,
 "nbformat_minor": 5
}
