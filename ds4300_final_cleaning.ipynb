{
 "cells": [
  {
   "cell_type": "code",
   "execution_count": 1,
   "id": "69e8d156-eee4-40c1-a2b8-26be3b850d4a",
   "metadata": {},
   "outputs": [],
   "source": [
    "# !pip install langdetect"
   ]
  },
  {
   "cell_type": "code",
   "execution_count": 2,
   "id": "f079816d-05f2-4de2-8295-f9c77db691d7",
   "metadata": {
    "jupyter": {
     "is_executing": true
    }
   },
   "outputs": [],
   "source": [
    "import pandas as pd\n",
    "import numpy as np\n",
    "from tqdm import tqdm\n",
    "\n",
    "import requests\n",
    "from time import sleep\n",
    "import random\n",
    "\n",
    "from langdetect import detect, DetectorFactory\n",
    "\n",
    "import re\n",
    "from nltk.corpus import stopwords\n",
    "from nltk.stem import WordNetLemmatizer\n",
    "from nltk.tokenize import word_tokenize\n",
    "import nltk\n",
    "\n",
    "# nltk.download('punkt')\n",
    "# nltk.download('stopwords')\n",
    "# nltk.download('wordnet')"
   ]
  },
  {
   "cell_type": "code",
   "execution_count": 3,
   "id": "8a4235af-04de-4919-bd02-793f07d303ea",
   "metadata": {},
   "outputs": [],
   "source": [
    "test_df = pd.read_csv('~/Downloads/test.csv')\n",
    "\n",
    "test_df = test_df[['title', 'user_review']]"
   ]
  },
  {
   "cell_type": "code",
   "execution_count": 4,
   "id": "3104fed2-27ad-4335-920f-420987a38507",
   "metadata": {},
   "outputs": [],
   "source": [
    "# Initialize stop words and lemmatizer\n",
    "stop_words = set(stopwords.words('english'))\n",
    "lemmatizer = WordNetLemmatizer()\n",
    "\n",
    "def clean_text(text):\n",
    "    # Convert to lowercase\n",
    "    text = text.lower()\n",
    "    # Remove escape characters\n",
    "    text = re.sub(r'\\\\[a-z]', '', text)\n",
    "    # Remove punctuation\n",
    "    text = re.sub(r'[^\\w\\s]', '', text)\n",
    "    # Tokenize text\n",
    "    tokens = word_tokenize(text)\n",
    "    # Remove stop words and lemmatize\n",
    "    tokens = [lemmatizer.lemmatize(word) for word in tokens if word not in stop_words]\n",
    "    # Join tokens back into a string\n",
    "    cleaned_text = ' '.join(tokens)\n",
    "    return cleaned_text\n",
    "\n",
    "# Seed for consistent language detection\n",
    "DetectorFactory.seed = 0\n",
    "\n",
    "# Function to detect language\n",
    "def is_english(text):\n",
    "    try:\n",
    "        return detect(text) == 'en'\n",
    "    except:\n",
    "        return False"
   ]
  },
  {
   "cell_type": "code",
   "execution_count": 5,
   "id": "a3f9319b-019f-400a-95c6-3634140526cb",
   "metadata": {},
   "outputs": [],
   "source": [
    "#Text cleaning\n",
    "\n",
    "#only English reviews\n",
    "test_df['is_english'] = test_df['user_review'].apply(is_english)\n",
    "english_reviews_df = test_df[test_df['is_english'] == True]\n",
    "\n",
    "# Drop the 'is_english' helper column if needed\n",
    "english_reviews_df = english_reviews_df.drop(columns=['is_english'])\n",
    "\n",
    "# Apply the cleaning function to the dataset\n",
    "english_reviews_df['cleaned_review'] = english_reviews_df['user_review'].apply(clean_text)\n",
    "\n",
    "#Dropping original review column\n",
    "english_reviews_df = english_reviews_df.drop(columns=['user_review'])\n",
    "\n",
    "# Change h1z1 to Z1 Battle Royale\n",
    "english_reviews_df.loc[english_reviews_df['title'] == 'H1Z1', 'title'] = 'Z1 Battle Royale'"
   ]
  },
  {
   "cell_type": "code",
   "execution_count": 6,
   "id": "2c8e888b-180e-4d9e-ab47-6299f9c45204",
   "metadata": {},
   "outputs": [
    {
     "name": "stdout",
     "output_type": "stream",
     "text": [
      "<class 'pandas.core.frame.DataFrame'>\n",
      "Index: 7957 entries, 0 to 8044\n",
      "Data columns (total 2 columns):\n",
      " #   Column          Non-Null Count  Dtype \n",
      "---  ------          --------------  ----- \n",
      " 0   title           7957 non-null   object\n",
      " 1   cleaned_review  7957 non-null   object\n",
      "dtypes: object(2)\n",
      "memory usage: 186.5+ KB\n"
     ]
    }
   ],
   "source": [
    "english_reviews_df.info()"
   ]
  },
  {
   "cell_type": "code",
   "execution_count": 7,
   "id": "38c4f942-dd36-47a0-9e58-172513b915b5",
   "metadata": {},
   "outputs": [],
   "source": [
    "# english_reviews_df.to_csv('ds4300_final.csv', index=False)"
   ]
  },
  {
   "cell_type": "code",
   "execution_count": 8,
   "id": "69b39fc6-e529-4a3f-ac45-3f42bd9453f2",
   "metadata": {},
   "outputs": [
    {
     "data": {
      "text/plain": [
       "array(['Counter-Strike: Global Offensive', 'World of Warships',\n",
       "       'Star Trek Online', 'Paladins®', 'Shadowverse CCG',\n",
       "       'Tree of Savior (English Ver.)', 'VEGA Conflict', 'Minion Masters',\n",
       "       'The Lord of the Rings Online™', 'Fishing Planet', 'Crush Crush',\n",
       "       'Dungeon Defenders II', 'Governor of Poker 3',\n",
       "       'Digimon Masters Online', 'Shakes and Fidget', 'Champions Online',\n",
       "       'Magic Duels', 'Aura Kingdom', 'Z1 Battle Royale', 'GUNS UP!'],\n",
       "      dtype=object)"
      ]
     },
     "execution_count": 8,
     "metadata": {},
     "output_type": "execute_result"
    }
   ],
   "source": [
    "english_reviews_df.title.unique()"
   ]
  },
  {
   "cell_type": "code",
   "execution_count": 14,
   "id": "f631273f-17b0-4119-8747-d9f16bafa4a7",
   "metadata": {},
   "outputs": [],
   "source": [
    "# Iterate through unique titles\n",
    "for title in english_reviews_df['title'].unique():\n",
    "    # Clean the title to create a valid filename\n",
    "    clean_title = title.replace(\" \", \"_\").replace(\":\", \"\").replace(\"-\", \"_\").replace(\".\", \"\")\n",
    "    # Create a new dataframe for the title\n",
    "    new_df = english_reviews_df.loc[english_reviews_df['title'] == title, ['title', 'cleaned_review']]\n",
    "    # Save the dataframe as a CSV file\n",
    "    new_df.to_csv(f'{clean_title}_reviews.csv', index=False)"
   ]
  },
  {
   "cell_type": "code",
   "execution_count": 13,
   "id": "2e2e7e99-379e-4399-83e4-625c84721d57",
   "metadata": {},
   "outputs": [
    {
     "data": {
      "text/html": [
       "<div>\n",
       "<style scoped>\n",
       "    .dataframe tbody tr th:only-of-type {\n",
       "        vertical-align: middle;\n",
       "    }\n",
       "\n",
       "    .dataframe tbody tr th {\n",
       "        vertical-align: top;\n",
       "    }\n",
       "\n",
       "    .dataframe thead th {\n",
       "        text-align: right;\n",
       "    }\n",
       "</style>\n",
       "<table border=\"1\" class=\"dataframe\">\n",
       "  <thead>\n",
       "    <tr style=\"text-align: right;\">\n",
       "      <th></th>\n",
       "      <th>title</th>\n",
       "      <th>cleaned_review</th>\n",
       "    </tr>\n",
       "  </thead>\n",
       "  <tbody>\n",
       "    <tr>\n",
       "      <th>0</th>\n",
       "      <td>Counter-Strike: Global Offensive</td>\n",
       "      <td>nice graphic new map weapon model developer li...</td>\n",
       "    </tr>\n",
       "    <tr>\n",
       "      <th>1</th>\n",
       "      <td>Counter-Strike: Global Offensive</td>\n",
       "      <td>would recommend getting current state csgo hit...</td>\n",
       "    </tr>\n",
       "    <tr>\n",
       "      <th>2</th>\n",
       "      <td>Counter-Strike: Global Offensive</td>\n",
       "      <td>edit 111218i tried playing csgo recently drama...</td>\n",
       "    </tr>\n",
       "    <tr>\n",
       "      <th>3</th>\n",
       "      <td>Counter-Strike: Global Offensive</td>\n",
       "      <td>game great community worstif youre match russi...</td>\n",
       "    </tr>\n",
       "    <tr>\n",
       "      <th>4</th>\n",
       "      <td>Counter-Strike: Global Offensive</td>\n",
       "      <td>thank trulyrazor buying long time ago insisted...</td>\n",
       "    </tr>\n",
       "  </tbody>\n",
       "</table>\n",
       "</div>"
      ],
      "text/plain": [
       "                              title  \\\n",
       "0  Counter-Strike: Global Offensive   \n",
       "1  Counter-Strike: Global Offensive   \n",
       "2  Counter-Strike: Global Offensive   \n",
       "3  Counter-Strike: Global Offensive   \n",
       "4  Counter-Strike: Global Offensive   \n",
       "\n",
       "                                      cleaned_review  \n",
       "0  nice graphic new map weapon model developer li...  \n",
       "1  would recommend getting current state csgo hit...  \n",
       "2  edit 111218i tried playing csgo recently drama...  \n",
       "3  game great community worstif youre match russi...  \n",
       "4  thank trulyrazor buying long time ago insisted...  "
      ]
     },
     "execution_count": 13,
     "metadata": {},
     "output_type": "execute_result"
    }
   ],
   "source": [
    "english_reviews_df.head()"
   ]
  },
  {
   "cell_type": "code",
   "execution_count": 15,
   "id": "b19f83b6-29ff-408d-9b3e-e8b53b97910f",
   "metadata": {},
   "outputs": [
    {
     "data": {
      "text/plain": [
       "array(['Counter-Strike: Global Offensive', 'World of Warships',\n",
       "       'Star Trek Online', 'Paladins®', 'Shadowverse CCG',\n",
       "       'Tree of Savior (English Ver.)', 'VEGA Conflict', 'Minion Masters',\n",
       "       'The Lord of the Rings Online™', 'Fishing Planet', 'Crush Crush',\n",
       "       'Dungeon Defenders II', 'Governor of Poker 3',\n",
       "       'Digimon Masters Online', 'Shakes and Fidget', 'Champions Online',\n",
       "       'Magic Duels', 'Aura Kingdom', 'Z1 Battle Royale', 'GUNS UP!'],\n",
       "      dtype=object)"
      ]
     },
     "execution_count": 15,
     "metadata": {},
     "output_type": "execute_result"
    }
   ],
   "source": [
    "english_reviews_df.title.unique()"
   ]
  },
  {
   "cell_type": "code",
   "execution_count": null,
   "id": "dca56697-9542-4f64-ae8e-303521c73420",
   "metadata": {},
   "outputs": [],
   "source": []
  }
 ],
 "metadata": {
  "kernelspec": {
   "display_name": "Python 3 (ipykernel)",
   "language": "python",
   "name": "python3"
  },
  "language_info": {
   "codemirror_mode": {
    "name": "ipython",
    "version": 3
   },
   "file_extension": ".py",
   "mimetype": "text/x-python",
   "name": "python",
   "nbconvert_exporter": "python",
   "pygments_lexer": "ipython3",
   "version": "3.11.1"
  }
 },
 "nbformat": 4,
 "nbformat_minor": 5
}
