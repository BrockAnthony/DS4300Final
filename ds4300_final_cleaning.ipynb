{
 "cells": [
  {
   "cell_type": "code",
   "execution_count": 98,
   "id": "69e8d156-eee4-40c1-a2b8-26be3b850d4a",
   "metadata": {},
   "outputs": [],
   "source": [
    "# !pip install langdetect"
   ]
  },
  {
   "cell_type": "code",
   "execution_count": 99,
   "id": "f079816d-05f2-4de2-8295-f9c77db691d7",
   "metadata": {
    "jupyter": {
     "is_executing": true
    }
   },
   "outputs": [],
   "source": [
    "import pandas as pd\n",
    "import numpy as np\n",
    "from tqdm import tqdm\n",
    "\n",
    "import requests\n",
    "from time import sleep\n",
    "import random\n",
    "\n",
    "from langdetect import detect, DetectorFactory\n",
    "\n",
    "import re\n",
    "from nltk.corpus import stopwords\n",
    "from nltk.stem import WordNetLemmatizer\n",
    "from nltk.tokenize import word_tokenize\n",
    "import nltk\n",
    "\n",
    "# nltk.download('punkt')\n",
    "# nltk.download('stopwords')\n",
    "# nltk.download('wordnet')"
   ]
  },
  {
   "cell_type": "code",
   "execution_count": 100,
   "id": "8a4235af-04de-4919-bd02-793f07d303ea",
   "metadata": {},
   "outputs": [],
   "source": [
    "test_df = pd.read_csv('~/Downloads/test.csv')\n",
    "test_df['score'] = [random.randint(3, 5) for _ in range(len(test_df))]\n",
    "\n",
    "test_df = test_df[['title', 'user_review', 'score']]"
   ]
  },
  {
   "cell_type": "code",
   "execution_count": 101,
   "id": "3104fed2-27ad-4335-920f-420987a38507",
   "metadata": {},
   "outputs": [],
   "source": [
    "# Initialize stop words and lemmatizer\n",
    "stop_words = set(stopwords.words('english'))\n",
    "lemmatizer = WordNetLemmatizer()\n",
    "\n",
    "def clean_text(text):\n",
    "    # Convert to lowercase\n",
    "    text = text.lower()\n",
    "    # Remove escape characters\n",
    "    text = re.sub(r'\\\\[a-z]', '', text)\n",
    "    # Remove punctuation\n",
    "    text = re.sub(r'[^\\w\\s]', '', text)\n",
    "    # Tokenize text\n",
    "    tokens = word_tokenize(text)\n",
    "    # Remove stop words and lemmatize\n",
    "    tokens = [lemmatizer.lemmatize(word) for word in tokens if word not in stop_words]\n",
    "    # Join tokens back into a string\n",
    "    cleaned_text = ' '.join(tokens)\n",
    "    return cleaned_text\n",
    "\n",
    "# Seed for consistent language detection\n",
    "DetectorFactory.seed = 0\n",
    "\n",
    "# Function to detect language\n",
    "def is_english(text):\n",
    "    try:\n",
    "        return detect(text) == 'en'\n",
    "    except:\n",
    "        return False"
   ]
  },
  {
   "cell_type": "code",
   "execution_count": 102,
   "id": "a3f9319b-019f-400a-95c6-3634140526cb",
   "metadata": {},
   "outputs": [],
   "source": [
    "#Text cleaning\n",
    "\n",
    "#only English reviews\n",
    "test_df['is_english'] = test_df['user_review'].apply(is_english)\n",
    "english_reviews_df = test_df[test_df['is_english'] == True]\n",
    "\n",
    "# Drop the 'is_english' helper column if needed\n",
    "english_reviews_df = english_reviews_df.drop(columns=['is_english'])\n",
    "\n",
    "# Apply the cleaning function to the dataset\n",
    "english_reviews_df['cleaned_review'] = english_reviews_df['user_review'].apply(clean_text)\n",
    "\n",
    "#Dropping original review column\n",
    "english_reviews_df = english_reviews_df.drop(columns=['user_review'])\n",
    "\n",
    "# Change h1z1 to Z1 Battle Royale\n",
    "english_reviews_df.loc[english_reviews_df['title'] == 'H1Z1', 'title'] = 'Z1 Battle Royale'"
   ]
  },
  {
   "cell_type": "code",
   "execution_count": 103,
   "id": "2c8e888b-180e-4d9e-ab47-6299f9c45204",
   "metadata": {},
   "outputs": [
    {
     "name": "stdout",
     "output_type": "stream",
     "text": [
      "<class 'pandas.core.frame.DataFrame'>\n",
      "Index: 7957 entries, 0 to 8044\n",
      "Data columns (total 3 columns):\n",
      " #   Column          Non-Null Count  Dtype \n",
      "---  ------          --------------  ----- \n",
      " 0   title           7957 non-null   object\n",
      " 1   score           7957 non-null   int64 \n",
      " 2   cleaned_review  7957 non-null   object\n",
      "dtypes: int64(1), object(2)\n",
      "memory usage: 248.7+ KB\n"
     ]
    }
   ],
   "source": [
    "english_reviews_df.info()"
   ]
  },
  {
   "cell_type": "code",
   "execution_count": 104,
   "id": "38c4f942-dd36-47a0-9e58-172513b915b5",
   "metadata": {},
   "outputs": [],
   "source": [
    "english_reviews_df.to_csv('ds4300_final.csv', index=False)"
   ]
  }
 ],
 "metadata": {
  "kernelspec": {
   "display_name": "Python 3 (ipykernel)",
   "language": "python",
   "name": "python3"
  },
  "language_info": {
   "codemirror_mode": {
    "name": "ipython",
    "version": 3
   },
   "file_extension": ".py",
   "mimetype": "text/x-python",
   "name": "python",
   "nbconvert_exporter": "python",
   "pygments_lexer": "ipython3",
   "version": "3.11.1"
  }
 },
 "nbformat": 4,
 "nbformat_minor": 5
}
